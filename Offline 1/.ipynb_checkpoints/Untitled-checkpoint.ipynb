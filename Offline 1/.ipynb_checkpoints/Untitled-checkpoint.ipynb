{
 "cells": [
  {
   "cell_type": "code",
   "execution_count": 3,
   "metadata": {},
   "outputs": [
    {
     "name": "stdout",
     "output_type": "stream",
     "text": [
      "Enter key : Thats my Kung Fu\n",
      "Thats my Kung Fu\n"
     ]
    }
   ],
   "source": [
    "key = input(\"Enter key : \");\n",
    "\n",
    "if (len(key) < 16) :\n",
    "    key = key.ljust(16, '0')\n",
    "elif (len(key) > 16) :\n",
    "    key = key[0:16]\n",
    "    \n",
    "\n",
    "print(key);"
   ]
  },
  {
   "cell_type": "code",
   "execution_count": 4,
   "metadata": {},
   "outputs": [
    {
     "name": "stdout",
     "output_type": "stream",
     "text": [
      "5468617473206d79204b756e67204675\n"
     ]
    }
   ],
   "source": [
    "keyInHex = key.encode(\"utf-8\").hex()\n",
    "print(keyInHex)"
   ]
  },
  {
   "cell_type": "code",
   "execution_count": 5,
   "metadata": {},
   "outputs": [
    {
     "data": {
      "text/plain": [
       "16"
      ]
     },
     "execution_count": 5,
     "metadata": {},
     "output_type": "execute_result"
    }
   ],
   "source": [
    "len(key)"
   ]
  },
  {
   "cell_type": "code",
   "execution_count": 202,
   "metadata": {},
   "outputs": [
    {
     "name": "stdout",
     "output_type": "stream",
     "text": [
      "['54', '68', '61', '74', '73', '20', '6d', '79', '20', '4b', '75', '6e', '67', '20', '46', '75']\n"
     ]
    }
   ],
   "source": [
    "twoBitHex = []\n",
    "for i in range(0,len(keyInHex),2) :\n",
    "    twoBitHex.append(keyInHex[i:i+2])\n",
    "    \n",
    "print(twoBitHex)"
   ]
  },
  {
   "cell_type": "markdown",
   "metadata": {},
   "source": [
    "## S-Box and Inv S-Box"
   ]
  },
  {
   "cell_type": "code",
   "execution_count": 10,
   "metadata": {},
   "outputs": [],
   "source": [
    "from BitVector import *"
   ]
  },
  {
   "cell_type": "code",
   "execution_count": 11,
   "metadata": {},
   "outputs": [],
   "source": [
    "Sbox = (\n",
    "    0x63, 0x7C, 0x77, 0x7B, 0xF2, 0x6B, 0x6F, 0xC5, 0x30, 0x01, 0x67, 0x2B, 0xFE, 0xD7, 0xAB, 0x76,\n",
    "    0xCA, 0x82, 0xC9, 0x7D, 0xFA, 0x59, 0x47, 0xF0, 0xAD, 0xD4, 0xA2, 0xAF, 0x9C, 0xA4, 0x72, 0xC0,\n",
    "    0xB7, 0xFD, 0x93, 0x26, 0x36, 0x3F, 0xF7, 0xCC, 0x34, 0xA5, 0xE5, 0xF1, 0x71, 0xD8, 0x31, 0x15,\n",
    "    0x04, 0xC7, 0x23, 0xC3, 0x18, 0x96, 0x05, 0x9A, 0x07, 0x12, 0x80, 0xE2, 0xEB, 0x27, 0xB2, 0x75,\n",
    "    0x09, 0x83, 0x2C, 0x1A, 0x1B, 0x6E, 0x5A, 0xA0, 0x52, 0x3B, 0xD6, 0xB3, 0x29, 0xE3, 0x2F, 0x84,\n",
    "    0x53, 0xD1, 0x00, 0xED, 0x20, 0xFC, 0xB1, 0x5B, 0x6A, 0xCB, 0xBE, 0x39, 0x4A, 0x4C, 0x58, 0xCF,\n",
    "    0xD0, 0xEF, 0xAA, 0xFB, 0x43, 0x4D, 0x33, 0x85, 0x45, 0xF9, 0x02, 0x7F, 0x50, 0x3C, 0x9F, 0xA8,\n",
    "    0x51, 0xA3, 0x40, 0x8F, 0x92, 0x9D, 0x38, 0xF5, 0xBC, 0xB6, 0xDA, 0x21, 0x10, 0xFF, 0xF3, 0xD2,\n",
    "    0xCD, 0x0C, 0x13, 0xEC, 0x5F, 0x97, 0x44, 0x17, 0xC4, 0xA7, 0x7E, 0x3D, 0x64, 0x5D, 0x19, 0x73,\n",
    "    0x60, 0x81, 0x4F, 0xDC, 0x22, 0x2A, 0x90, 0x88, 0x46, 0xEE, 0xB8, 0x14, 0xDE, 0x5E, 0x0B, 0xDB,\n",
    "    0xE0, 0x32, 0x3A, 0x0A, 0x49, 0x06, 0x24, 0x5C, 0xC2, 0xD3, 0xAC, 0x62, 0x91, 0x95, 0xE4, 0x79,\n",
    "    0xE7, 0xC8, 0x37, 0x6D, 0x8D, 0xD5, 0x4E, 0xA9, 0x6C, 0x56, 0xF4, 0xEA, 0x65, 0x7A, 0xAE, 0x08,\n",
    "    0xBA, 0x78, 0x25, 0x2E, 0x1C, 0xA6, 0xB4, 0xC6, 0xE8, 0xDD, 0x74, 0x1F, 0x4B, 0xBD, 0x8B, 0x8A,\n",
    "    0x70, 0x3E, 0xB5, 0x66, 0x48, 0x03, 0xF6, 0x0E, 0x61, 0x35, 0x57, 0xB9, 0x86, 0xC1, 0x1D, 0x9E,\n",
    "    0xE1, 0xF8, 0x98, 0x11, 0x69, 0xD9, 0x8E, 0x94, 0x9B, 0x1E, 0x87, 0xE9, 0xCE, 0x55, 0x28, 0xDF,\n",
    "    0x8C, 0xA1, 0x89, 0x0D, 0xBF, 0xE6, 0x42, 0x68, 0x41, 0x99, 0x2D, 0x0F, 0xB0, 0x54, 0xBB, 0x16,\n",
    ")\n",
    "\n",
    "InvSbox = (\n",
    "    0x52, 0x09, 0x6A, 0xD5, 0x30, 0x36, 0xA5, 0x38, 0xBF, 0x40, 0xA3, 0x9E, 0x81, 0xF3, 0xD7, 0xFB,\n",
    "    0x7C, 0xE3, 0x39, 0x82, 0x9B, 0x2F, 0xFF, 0x87, 0x34, 0x8E, 0x43, 0x44, 0xC4, 0xDE, 0xE9, 0xCB,\n",
    "    0x54, 0x7B, 0x94, 0x32, 0xA6, 0xC2, 0x23, 0x3D, 0xEE, 0x4C, 0x95, 0x0B, 0x42, 0xFA, 0xC3, 0x4E,\n",
    "    0x08, 0x2E, 0xA1, 0x66, 0x28, 0xD9, 0x24, 0xB2, 0x76, 0x5B, 0xA2, 0x49, 0x6D, 0x8B, 0xD1, 0x25,\n",
    "    0x72, 0xF8, 0xF6, 0x64, 0x86, 0x68, 0x98, 0x16, 0xD4, 0xA4, 0x5C, 0xCC, 0x5D, 0x65, 0xB6, 0x92,\n",
    "    0x6C, 0x70, 0x48, 0x50, 0xFD, 0xED, 0xB9, 0xDA, 0x5E, 0x15, 0x46, 0x57, 0xA7, 0x8D, 0x9D, 0x84,\n",
    "    0x90, 0xD8, 0xAB, 0x00, 0x8C, 0xBC, 0xD3, 0x0A, 0xF7, 0xE4, 0x58, 0x05, 0xB8, 0xB3, 0x45, 0x06,\n",
    "    0xD0, 0x2C, 0x1E, 0x8F, 0xCA, 0x3F, 0x0F, 0x02, 0xC1, 0xAF, 0xBD, 0x03, 0x01, 0x13, 0x8A, 0x6B,\n",
    "    0x3A, 0x91, 0x11, 0x41, 0x4F, 0x67, 0xDC, 0xEA, 0x97, 0xF2, 0xCF, 0xCE, 0xF0, 0xB4, 0xE6, 0x73,\n",
    "    0x96, 0xAC, 0x74, 0x22, 0xE7, 0xAD, 0x35, 0x85, 0xE2, 0xF9, 0x37, 0xE8, 0x1C, 0x75, 0xDF, 0x6E,\n",
    "    0x47, 0xF1, 0x1A, 0x71, 0x1D, 0x29, 0xC5, 0x89, 0x6F, 0xB7, 0x62, 0x0E, 0xAA, 0x18, 0xBE, 0x1B,\n",
    "    0xFC, 0x56, 0x3E, 0x4B, 0xC6, 0xD2, 0x79, 0x20, 0x9A, 0xDB, 0xC0, 0xFE, 0x78, 0xCD, 0x5A, 0xF4,\n",
    "    0x1F, 0xDD, 0xA8, 0x33, 0x88, 0x07, 0xC7, 0x31, 0xB1, 0x12, 0x10, 0x59, 0x27, 0x80, 0xEC, 0x5F,\n",
    "    0x60, 0x51, 0x7F, 0xA9, 0x19, 0xB5, 0x4A, 0x0D, 0x2D, 0xE5, 0x7A, 0x9F, 0x93, 0xC9, 0x9C, 0xEF,\n",
    "    0xA0, 0xE0, 0x3B, 0x4D, 0xAE, 0x2A, 0xF5, 0xB0, 0xC8, 0xEB, 0xBB, 0x3C, 0x83, 0x53, 0x99, 0x61,\n",
    "    0x17, 0x2B, 0x04, 0x7E, 0xBA, 0x77, 0xD6, 0x26, 0xE1, 0x69, 0x14, 0x63, 0x55, 0x21, 0x0C, 0x7D,\n",
    ")"
   ]
  },
  {
   "cell_type": "markdown",
   "metadata": {},
   "source": [
    "## Calculating RC for all 10 rounds"
   ]
  },
  {
   "cell_type": "code",
   "execution_count": 204,
   "metadata": {},
   "outputs": [
    {
     "name": "stdout",
     "output_type": "stream",
     "text": [
      "[['0x01', '0x00', '0x00', '0x00'], ['0x2', '0x00', '0x00', '0x00'], ['0x4', '0x00', '0x00', '0x00'], ['0x8', '0x00', '0x00', '0x00'], ['0x10', '0x00', '0x00', '0x00'], ['0x20', '0x00', '0x00', '0x00'], ['0x40', '0x00', '0x00', '0x00'], ['0x80', '0x00', '0x00', '0x00'], ['0x1b', '0x00', '0x00', '0x00'], ['0x36', '0x00', '0x00', '0x00']]\n"
     ]
    }
   ],
   "source": [
    "round_constants = [];\n",
    "round_constants.append([\"0x01\", \"0x00\", \"0x00\", \"0x00\"])\n",
    "rc = [];\n",
    "rc.append(\"0x01\")\n",
    "\n",
    "for i in range(1,10) :\n",
    "    s = rc[i-1]\n",
    "    a = int(s, 16)\n",
    "    result = a << 1\n",
    "        \n",
    "    if a < 0x80 :\n",
    "        val = hex(result)\n",
    "\n",
    "    elif a >= 0x80 :\n",
    "        xor_with = 0x11B\n",
    "        xor_with_str = str(xor_with)\n",
    "        xor_with_int = int(xor_with_str)\n",
    "        val = hex(result ^ xor_with_int)\n",
    "        \n",
    "    rc.append(val)\n",
    "    round_constants.append([val, \"0x00\", \"0x00\", \"0x00\"])\n",
    "\n",
    "    \n",
    "print(round_constants)"
   ]
  },
  {
   "cell_type": "code",
   "execution_count": 316,
   "metadata": {},
   "outputs": [
    {
     "name": "stdout",
     "output_type": "stream",
     "text": [
      "[['01', '00', '00', '00'], ['02', '00', '00', '00'], ['04', '00', '00', '00'], ['08', '00', '00', '00'], ['10', '00', '00', '00'], ['20', '00', '00', '00'], ['40', '00', '00', '00'], ['80', '00', '00', '00'], ['1b', '00', '00', '00'], ['36', '00', '00', '00']]\n"
     ]
    }
   ],
   "source": [
    "# using bitvector\n",
    "\n",
    "round_constants = [];\n",
    "round_constants.append([\"01\", \"00\", \"00\", \"00\"])\n",
    "rc = [];\n",
    "rc.append(\"01\")\n",
    "\n",
    "AES_modulus = BitVector(bitstring='100011011')\n",
    "\n",
    "for i in range(1,10) :\n",
    "    bv1 = BitVector(hexstring=rc[i-1])\n",
    "    bv2 = BitVector(hexstring=\"02\")\n",
    "    a = bv1.gf_multiply_modular(bv2, AES_modulus, 8)\n",
    "\n",
    "        \n",
    "    if a.int_val() <= 0x80 :\n",
    "        val = a.get_bitvector_in_hex()\n",
    "\n",
    "    elif a.int_val() > 0x80 :\n",
    "        xor = BitVector(hexstring=\"11B\")\n",
    "        result = a ^ xor\n",
    "        val = result.get_bitvector_in_hex()\n",
    "\n",
    "    rc.append(val)\n",
    "    round_constants.append([val, \"00\", \"00\", \"00\"])\n",
    "\n",
    "    \n",
    "print(round_constants)\n"
   ]
  },
  {
   "cell_type": "code",
   "execution_count": 317,
   "metadata": {},
   "outputs": [
    {
     "name": "stdout",
     "output_type": "stream",
     "text": [
      "[['54', '68', '61', '74'], ['73', '20', '6d', '79'], ['20', '4b', '75', '6e'], ['67', '20', '46', '75']]\n"
     ]
    }
   ],
   "source": [
    "words = []\n",
    "for i in range(0, len(twoBitHex),4):\n",
    "    words.append(twoBitHex[i:i+4])\n",
    "print(words)"
   ]
  },
  {
   "cell_type": "markdown",
   "metadata": {},
   "source": [
    "# Converting g steps in a function"
   ]
  },
  {
   "cell_type": "code",
   "execution_count": 215,
   "metadata": {},
   "outputs": [],
   "source": [
    "import copy"
   ]
  },
  {
   "cell_type": "code",
   "execution_count": 257,
   "metadata": {},
   "outputs": [],
   "source": [
    "def nextWord (word_index) :\n",
    "    # next word\n",
    "    temp = []\n",
    "    for i in range(4):\n",
    "        a = int(words[word_index][i], 16)\n",
    "        b = int(g[g_index][i], 16)\n",
    "        xor = a^b\n",
    "        xor = BitVector(intVal=xor, size=8) \n",
    "        xor = xor.get_bitvector_in_hex()\n",
    "        temp.append(xor)\n",
    "\n",
    "    words.append(temp)\n"
   ]
  },
  {
   "cell_type": "code",
   "execution_count": 258,
   "metadata": {},
   "outputs": [],
   "source": [
    "def gSteps (word, g_index, round_index) :\n",
    "    \n",
    "    wordNew = copy.deepcopy(word)\n",
    "    \n",
    "    # circular byte left shift\n",
    "    element = wordNew.pop(0)\n",
    "    wordNew.append(element)\n",
    "    \n",
    "    # byte substitution s-box (g is defined before)\n",
    "    g_word = []\n",
    "    for element in wordNew:\n",
    "        b = BitVector(hexstring=element)\n",
    "        int_val = b.intValue()\n",
    "        s = Sbox[int_val]\n",
    "        s = BitVector(intVal=s, size=8)\n",
    "        g_word.append(s.get_bitvector_in_hex())\n",
    "\n",
    "    g.append(g_word)\n",
    "    \n",
    "    # adding round constant\n",
    "    int_g = int(g[g_index][0], 16)\n",
    "    int_rc = int(round_constants[round_index][0], 16)\n",
    "    summation = int_g ^ int_rc\n",
    "    g[g_index][0] = BitVector(intVal=summation, size=8) \n",
    "    g[g_index][0] = g[g_index][0].get_bitvector_in_hex()"
   ]
  },
  {
   "cell_type": "code",
   "execution_count": 318,
   "metadata": {},
   "outputs": [],
   "source": [
    "g = []\n",
    "g_index = 0\n",
    "round_index = 0\n",
    "word_index = 0"
   ]
  },
  {
   "cell_type": "code",
   "execution_count": 319,
   "metadata": {},
   "outputs": [
    {
     "data": {
      "text/plain": [
       "['b6', '5a', '9d', '85']"
      ]
     },
     "execution_count": 319,
     "metadata": {},
     "output_type": "execute_result"
    }
   ],
   "source": [
    "gSteps(words[3], g_index, round_index)\n",
    "g[g_index]"
   ]
  },
  {
   "cell_type": "code",
   "execution_count": 320,
   "metadata": {},
   "outputs": [],
   "source": [
    "nextWord(word_index)"
   ]
  },
  {
   "cell_type": "code",
   "execution_count": 321,
   "metadata": {},
   "outputs": [],
   "source": [
    "for i in range(5,44,4) :\n",
    "\n",
    "    for j in range (i, i+3): # w5, w6, w7\n",
    "      \n",
    "        word_index+=1\n",
    "        temp = []\n",
    "        for k in range(4):\n",
    "            a = int(words[word_index][k], 16)\n",
    "            b = int(words[j-1][k], 16)\n",
    "            xor = a^b\n",
    "            xor = BitVector(intVal=xor, size=8) \n",
    "            xor = xor.get_bitvector_in_hex()\n",
    "            temp.append(xor)\n",
    "        words.append(temp)\n",
    "        \n",
    "    # *******generate w8 as g(w7) xor words[word_index]********\n",
    "    \n",
    "    # before entering the function increase word_index, g_index, round_index\n",
    "    word_index += 1\n",
    "    g_index += 1\n",
    "    round_index += 1\n",
    "    \n",
    "    if word_index == 40 :\n",
    "        break;\n",
    "    \n",
    "    \n",
    "    # call function\n",
    "    gSteps(words[j], g_index, round_index)\n",
    "    nextWord(word_index)\n",
    "           "
   ]
  },
  {
   "cell_type": "code",
   "execution_count": 333,
   "metadata": {},
   "outputs": [
    {
     "name": "stdout",
     "output_type": "stream",
     "text": [
      "[['54', '68', '61', '74'], ['73', '20', '6d', '79'], ['20', '4b', '75', '6e'], ['67', '20', '46', '75']]\n",
      "\n",
      "\n",
      "[['e2', '32', 'fc', 'f1'], ['91', '12', '91', '88'], ['b1', '59', 'e4', 'e6'], ['d6', '79', 'a2', '93']]\n",
      "\n",
      "\n",
      "[['56', '08', '20', '07'], ['c7', '1a', 'b1', '8f'], ['76', '43', '55', '69'], ['a0', '3a', 'f7', 'fa']]\n",
      "\n",
      "\n",
      "[['d2', '60', '0d', 'e7'], ['15', '7a', 'bc', '68'], ['63', '39', 'e9', '01'], ['c3', '03', '1e', 'fb']]\n",
      "\n",
      "\n",
      "[['a1', '12', '02', 'c9'], ['b4', '68', 'be', 'a1'], ['d7', '51', '57', 'a0'], ['14', '52', '49', '5b']]\n",
      "\n",
      "\n",
      "[['b1', '29', '3b', '33'], ['05', '41', '85', '92'], ['d2', '10', 'd2', '32'], ['c6', '42', '9b', '69']]\n",
      "\n",
      "\n",
      "[['bd', '3d', 'c2', '87'], ['b8', '7c', '47', '15'], ['6a', '6c', '95', '27'], ['ac', '2e', '0e', '4e']]\n",
      "\n",
      "\n",
      "[['cc', '96', 'ed', '16'], ['74', 'ea', 'aa', '03'], ['1e', '86', '3f', '24'], ['b2', 'a8', '31', '6a']]\n",
      "\n",
      "\n",
      "[['8e', '51', 'ef', '21'], ['fa', 'bb', '45', '22'], ['e4', '3d', '7a', '06'], ['56', '95', '4b', '6c']]\n",
      "\n",
      "\n",
      "[['bf', 'e2', 'bf', '90'], ['45', '59', 'fa', 'b2'], ['a1', '64', '80', 'b4'], ['f7', 'f1', 'cb', 'd8']]\n",
      "\n",
      "\n",
      "[['28', 'fd', 'de', 'f8'], ['6d', 'a4', '24', '4a'], ['cc', 'c0', 'a4', 'fe'], ['3b', '31', '6f', '26']]\n",
      "\n",
      "\n"
     ]
    }
   ],
   "source": [
    "roundKeys = []\n",
    "for i in range(0,len(words),4) :\n",
    "    roundKeys.append(words[i:i+4])\n",
    "    \n",
    "for i in range(len(roundKeys)) :\n",
    "    print(roundKeys[i])\n",
    "    print(\"\\n\")\n",
    "    "
   ]
  },
  {
   "cell_type": "markdown",
   "metadata": {},
   "source": [
    "# Encryption"
   ]
  },
  {
   "cell_type": "markdown",
   "metadata": {},
   "source": [
    "## Input"
   ]
  },
  {
   "cell_type": "code",
   "execution_count": 329,
   "metadata": {},
   "outputs": [
    {
     "name": "stdout",
     "output_type": "stream",
     "text": [
      "Enter text : Two One Nine Two\n",
      "['Two One Nine Two']\n"
     ]
    }
   ],
   "source": [
    "text = input(\"Enter text : \")\n",
    "blocks = []\n",
    "if (len(text) < 16) :\n",
    "    text = text.ljust(16,'0')\n",
    "    blocks.append(text)\n",
    "elif (len(text) > 16) :\n",
    "    for i in range(0,len(text),16) :\n",
    "        blocks.append(text[i:i+16])\n",
    "    if(len(blocks[len(blocks) - 1]) < 16) : \n",
    "        blocks[len(blocks) - 1] = blocks[len(blocks) - 1].ljust(16,'0')\n",
    "else :\n",
    "    blocks.append(text)\n",
    "print(blocks)\n",
    "\n",
    "    \n",
    "\n"
   ]
  },
  {
   "cell_type": "code",
   "execution_count": 363,
   "metadata": {},
   "outputs": [
    {
     "name": "stdout",
     "output_type": "stream",
     "text": [
      "[['00' '3c' '6e' '47']\n",
      " ['1f' '4e' '22' '74']\n",
      " ['0e' '08' '1b' '31']\n",
      " ['54' '59' '0b' '1a']]\n"
     ]
    }
   ],
   "source": [
    "for i in range(len(blocks)) :\n",
    "    textInHex = blocks[i].encode(\"utf-8\").hex()\n",
    "    \n",
    "    twoBitHexText = []\n",
    "    for j in range(0,len(textInHex),2) :\n",
    "        twoBitHexText.append(textInHex[j:j+2])\n",
    "\n",
    "        \n",
    "    # round 0\n",
    "    twoBitHexTextMatrix = np.array(twoBitHexText, dtype = str).reshape((4,4)).T\n",
    "    keyMatrix = np.array(roundKeys[0], dtype = str).reshape((4,4)).T\n",
    "    \n",
    "    state = []\n",
    "    \n",
    "    for i in range(4) :\n",
    "        for j in range(4) :\n",
    "            a = BitVector(hexstring=twoBitHexTextMatrix[i][j])\n",
    "            b = BitVector(hexstring=keyMatrix[i][j])\n",
    "            result = a ^ b\n",
    "            result = result.get_bitvector_in_hex()\n",
    "            state.append(result)\n",
    "    \n",
    "    stateMatrix = np.array(state, dtype = str).reshape((4,4))\n",
    "    \n",
    "    "
   ]
  },
  {
   "cell_type": "code",
   "execution_count": 334,
   "metadata": {},
   "outputs": [],
   "source": [
    "import numpy as np"
   ]
  },
  {
   "cell_type": "code",
   "execution_count": 338,
   "metadata": {},
   "outputs": [
    {
     "name": "stdout",
     "output_type": "stream",
     "text": [
      "[['28' '6d' 'cc' '3b']\n",
      " ['fd' 'a4' 'c0' '31']\n",
      " ['de' '24' 'a4' '6f']\n",
      " ['f8' '4a' 'fe' '26']]\n"
     ]
    }
   ],
   "source": []
  },
  {
   "cell_type": "code",
   "execution_count": 357,
   "metadata": {},
   "outputs": [
    {
     "name": "stdout",
     "output_type": "stream",
     "text": [
      "00\n"
     ]
    }
   ],
   "source": [
    "for i in range(4) :\n",
    "    for j in range(4) :\n",
    "        a = BitVector(hexstring=twoBitHexTextMatrix[i][j])\n",
    "        b = BitVector(hexstring=keyMatrix[i][j])\n",
    "        result = a ^ b\n",
    "        result = result.get_bitvector_in_hex()\n",
    "        stateMatrix[i][j] = result\n",
    "\n",
    "        "
   ]
  },
  {
   "cell_type": "code",
   "execution_count": null,
   "metadata": {},
   "outputs": [],
   "source": []
  }
 ],
 "metadata": {
  "kernelspec": {
   "display_name": "Python 3",
   "language": "python",
   "name": "python3"
  },
  "language_info": {
   "codemirror_mode": {
    "name": "ipython",
    "version": 3
   },
   "file_extension": ".py",
   "mimetype": "text/x-python",
   "name": "python",
   "nbconvert_exporter": "python",
   "pygments_lexer": "ipython3",
   "version": "3.8.5"
  }
 },
 "nbformat": 4,
 "nbformat_minor": 4
}
