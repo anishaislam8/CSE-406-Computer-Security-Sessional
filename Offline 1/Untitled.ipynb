{
 "cells": [
  {
   "cell_type": "code",
   "execution_count": 206,
   "metadata": {},
   "outputs": [
    {
     "name": "stdout",
     "output_type": "stream",
     "text": [
      "Enter key : Look what you made me do\n"
     ]
    }
   ],
   "source": [
    "key = input(\"Enter key : \");\n",
    "\n",
    "if (len(key) < 16) :\n",
    "    key = key.ljust(16, '0')\n",
    "elif (len(key) > 16) :\n",
    "    key = key[0:16]\n",
    "    \n",
    "\n"
   ]
  },
  {
   "cell_type": "code",
   "execution_count": 207,
   "metadata": {},
   "outputs": [],
   "source": [
    "# keyInHex = key.encode(\"utf-8\").hex()\n",
    "keyInHex = \"44656372797074205461736b20536978\""
   ]
  },
  {
   "cell_type": "code",
   "execution_count": 208,
   "metadata": {},
   "outputs": [],
   "source": [
    "twoBitHex = []\n",
    "for i in range(0,len(keyInHex),2) :\n",
    "    twoBitHex.append(keyInHex[i:i+2])\n",
    "    "
   ]
  },
  {
   "cell_type": "markdown",
   "metadata": {},
   "source": [
    "## S-Box and Inv S-Box"
   ]
  },
  {
   "cell_type": "code",
   "execution_count": 125,
   "metadata": {},
   "outputs": [],
   "source": [
    "from BitVector import *"
   ]
  },
  {
   "cell_type": "code",
   "execution_count": 126,
   "metadata": {},
   "outputs": [],
   "source": [
    "Sbox = (\n",
    "    0x63, 0x7C, 0x77, 0x7B, 0xF2, 0x6B, 0x6F, 0xC5, 0x30, 0x01, 0x67, 0x2B, 0xFE, 0xD7, 0xAB, 0x76,\n",
    "    0xCA, 0x82, 0xC9, 0x7D, 0xFA, 0x59, 0x47, 0xF0, 0xAD, 0xD4, 0xA2, 0xAF, 0x9C, 0xA4, 0x72, 0xC0,\n",
    "    0xB7, 0xFD, 0x93, 0x26, 0x36, 0x3F, 0xF7, 0xCC, 0x34, 0xA5, 0xE5, 0xF1, 0x71, 0xD8, 0x31, 0x15,\n",
    "    0x04, 0xC7, 0x23, 0xC3, 0x18, 0x96, 0x05, 0x9A, 0x07, 0x12, 0x80, 0xE2, 0xEB, 0x27, 0xB2, 0x75,\n",
    "    0x09, 0x83, 0x2C, 0x1A, 0x1B, 0x6E, 0x5A, 0xA0, 0x52, 0x3B, 0xD6, 0xB3, 0x29, 0xE3, 0x2F, 0x84,\n",
    "    0x53, 0xD1, 0x00, 0xED, 0x20, 0xFC, 0xB1, 0x5B, 0x6A, 0xCB, 0xBE, 0x39, 0x4A, 0x4C, 0x58, 0xCF,\n",
    "    0xD0, 0xEF, 0xAA, 0xFB, 0x43, 0x4D, 0x33, 0x85, 0x45, 0xF9, 0x02, 0x7F, 0x50, 0x3C, 0x9F, 0xA8,\n",
    "    0x51, 0xA3, 0x40, 0x8F, 0x92, 0x9D, 0x38, 0xF5, 0xBC, 0xB6, 0xDA, 0x21, 0x10, 0xFF, 0xF3, 0xD2,\n",
    "    0xCD, 0x0C, 0x13, 0xEC, 0x5F, 0x97, 0x44, 0x17, 0xC4, 0xA7, 0x7E, 0x3D, 0x64, 0x5D, 0x19, 0x73,\n",
    "    0x60, 0x81, 0x4F, 0xDC, 0x22, 0x2A, 0x90, 0x88, 0x46, 0xEE, 0xB8, 0x14, 0xDE, 0x5E, 0x0B, 0xDB,\n",
    "    0xE0, 0x32, 0x3A, 0x0A, 0x49, 0x06, 0x24, 0x5C, 0xC2, 0xD3, 0xAC, 0x62, 0x91, 0x95, 0xE4, 0x79,\n",
    "    0xE7, 0xC8, 0x37, 0x6D, 0x8D, 0xD5, 0x4E, 0xA9, 0x6C, 0x56, 0xF4, 0xEA, 0x65, 0x7A, 0xAE, 0x08,\n",
    "    0xBA, 0x78, 0x25, 0x2E, 0x1C, 0xA6, 0xB4, 0xC6, 0xE8, 0xDD, 0x74, 0x1F, 0x4B, 0xBD, 0x8B, 0x8A,\n",
    "    0x70, 0x3E, 0xB5, 0x66, 0x48, 0x03, 0xF6, 0x0E, 0x61, 0x35, 0x57, 0xB9, 0x86, 0xC1, 0x1D, 0x9E,\n",
    "    0xE1, 0xF8, 0x98, 0x11, 0x69, 0xD9, 0x8E, 0x94, 0x9B, 0x1E, 0x87, 0xE9, 0xCE, 0x55, 0x28, 0xDF,\n",
    "    0x8C, 0xA1, 0x89, 0x0D, 0xBF, 0xE6, 0x42, 0x68, 0x41, 0x99, 0x2D, 0x0F, 0xB0, 0x54, 0xBB, 0x16,\n",
    ")\n",
    "\n",
    "InvSbox = (\n",
    "    0x52, 0x09, 0x6A, 0xD5, 0x30, 0x36, 0xA5, 0x38, 0xBF, 0x40, 0xA3, 0x9E, 0x81, 0xF3, 0xD7, 0xFB,\n",
    "    0x7C, 0xE3, 0x39, 0x82, 0x9B, 0x2F, 0xFF, 0x87, 0x34, 0x8E, 0x43, 0x44, 0xC4, 0xDE, 0xE9, 0xCB,\n",
    "    0x54, 0x7B, 0x94, 0x32, 0xA6, 0xC2, 0x23, 0x3D, 0xEE, 0x4C, 0x95, 0x0B, 0x42, 0xFA, 0xC3, 0x4E,\n",
    "    0x08, 0x2E, 0xA1, 0x66, 0x28, 0xD9, 0x24, 0xB2, 0x76, 0x5B, 0xA2, 0x49, 0x6D, 0x8B, 0xD1, 0x25,\n",
    "    0x72, 0xF8, 0xF6, 0x64, 0x86, 0x68, 0x98, 0x16, 0xD4, 0xA4, 0x5C, 0xCC, 0x5D, 0x65, 0xB6, 0x92,\n",
    "    0x6C, 0x70, 0x48, 0x50, 0xFD, 0xED, 0xB9, 0xDA, 0x5E, 0x15, 0x46, 0x57, 0xA7, 0x8D, 0x9D, 0x84,\n",
    "    0x90, 0xD8, 0xAB, 0x00, 0x8C, 0xBC, 0xD3, 0x0A, 0xF7, 0xE4, 0x58, 0x05, 0xB8, 0xB3, 0x45, 0x06,\n",
    "    0xD0, 0x2C, 0x1E, 0x8F, 0xCA, 0x3F, 0x0F, 0x02, 0xC1, 0xAF, 0xBD, 0x03, 0x01, 0x13, 0x8A, 0x6B,\n",
    "    0x3A, 0x91, 0x11, 0x41, 0x4F, 0x67, 0xDC, 0xEA, 0x97, 0xF2, 0xCF, 0xCE, 0xF0, 0xB4, 0xE6, 0x73,\n",
    "    0x96, 0xAC, 0x74, 0x22, 0xE7, 0xAD, 0x35, 0x85, 0xE2, 0xF9, 0x37, 0xE8, 0x1C, 0x75, 0xDF, 0x6E,\n",
    "    0x47, 0xF1, 0x1A, 0x71, 0x1D, 0x29, 0xC5, 0x89, 0x6F, 0xB7, 0x62, 0x0E, 0xAA, 0x18, 0xBE, 0x1B,\n",
    "    0xFC, 0x56, 0x3E, 0x4B, 0xC6, 0xD2, 0x79, 0x20, 0x9A, 0xDB, 0xC0, 0xFE, 0x78, 0xCD, 0x5A, 0xF4,\n",
    "    0x1F, 0xDD, 0xA8, 0x33, 0x88, 0x07, 0xC7, 0x31, 0xB1, 0x12, 0x10, 0x59, 0x27, 0x80, 0xEC, 0x5F,\n",
    "    0x60, 0x51, 0x7F, 0xA9, 0x19, 0xB5, 0x4A, 0x0D, 0x2D, 0xE5, 0x7A, 0x9F, 0x93, 0xC9, 0x9C, 0xEF,\n",
    "    0xA0, 0xE0, 0x3B, 0x4D, 0xAE, 0x2A, 0xF5, 0xB0, 0xC8, 0xEB, 0xBB, 0x3C, 0x83, 0x53, 0x99, 0x61,\n",
    "    0x17, 0x2B, 0x04, 0x7E, 0xBA, 0x77, 0xD6, 0x26, 0xE1, 0x69, 0x14, 0x63, 0x55, 0x21, 0x0C, 0x7D,\n",
    ")"
   ]
  },
  {
   "cell_type": "markdown",
   "metadata": {},
   "source": [
    "## Calculating RC for all 10 rounds"
   ]
  },
  {
   "cell_type": "code",
   "execution_count": 211,
   "metadata": {},
   "outputs": [],
   "source": [
    "round_constants = [];\n",
    "round_constants.append([\"0x01\", \"0x00\", \"0x00\", \"0x00\"])\n",
    "rc = [];\n",
    "rc.append(\"0x01\")\n",
    "\n",
    "for i in range(1,10) :\n",
    "    s = rc[i-1]\n",
    "    a = int(s, 16)\n",
    "    result = a << 1\n",
    "        \n",
    "    if a < 0x80 :\n",
    "        val = hex(result)\n",
    "\n",
    "    elif a >= 0x80 :\n",
    "        xor_with = 0x11B\n",
    "        xor_with_str = str(xor_with)\n",
    "        xor_with_int = int(xor_with_str)\n",
    "        val = hex(result ^ xor_with_int)\n",
    "        \n",
    "    rc.append(val)\n",
    "    round_constants.append([val, \"0x00\", \"0x00\", \"0x00\"])\n",
    "\n",
    "    "
   ]
  },
  {
   "cell_type": "code",
   "execution_count": 212,
   "metadata": {},
   "outputs": [],
   "source": [
    "# using bitvector\n",
    "\n",
    "round_constants = [];\n",
    "round_constants.append([\"01\", \"00\", \"00\", \"00\"])\n",
    "rc = [];\n",
    "rc.append(\"01\")\n",
    "\n",
    "AES_modulus = BitVector(bitstring='100011011')\n",
    "\n",
    "for i in range(1,10) :\n",
    "    bv1 = BitVector(hexstring=rc[i-1])\n",
    "    bv2 = BitVector(hexstring=\"02\")\n",
    "    a = bv1.gf_multiply_modular(bv2, AES_modulus, 8)\n",
    "\n",
    "        \n",
    "    if a.int_val() <= 0x80 :\n",
    "        val = a.get_bitvector_in_hex()\n",
    "\n",
    "    elif a.int_val() > 0x80 :\n",
    "        xor = BitVector(hexstring=\"11B\")\n",
    "        result = a ^ xor\n",
    "        val = result.get_bitvector_in_hex()\n",
    "\n",
    "    rc.append(val)\n",
    "    round_constants.append([val, \"00\", \"00\", \"00\"])\n",
    "\n",
    "    \n"
   ]
  },
  {
   "cell_type": "code",
   "execution_count": 213,
   "metadata": {},
   "outputs": [],
   "source": [
    "words = []\n",
    "for i in range(0, len(twoBitHex),4):\n",
    "    words.append(twoBitHex[i:i+4])\n"
   ]
  },
  {
   "cell_type": "markdown",
   "metadata": {},
   "source": [
    "# Converting g steps in a function"
   ]
  },
  {
   "cell_type": "code",
   "execution_count": 214,
   "metadata": {},
   "outputs": [],
   "source": [
    "import copy\n",
    "import numpy as np\n",
    "import time"
   ]
  },
  {
   "cell_type": "code",
   "execution_count": 215,
   "metadata": {},
   "outputs": [],
   "source": [
    "def nextWord (word_index) :\n",
    "    # next word\n",
    "    temp = []\n",
    "    for i in range(4):\n",
    "        a = int(words[word_index][i], 16)\n",
    "        b = int(g[g_index][i], 16)\n",
    "        xor = a^b\n",
    "        xor = BitVector(intVal=xor, size=8) \n",
    "        xor = xor.get_bitvector_in_hex()\n",
    "        temp.append(xor)\n",
    "\n",
    "    words.append(temp)\n"
   ]
  },
  {
   "cell_type": "code",
   "execution_count": 216,
   "metadata": {},
   "outputs": [],
   "source": [
    "def gSteps (word, g_index, round_index) :\n",
    "    \n",
    "    wordNew = copy.deepcopy(word)\n",
    "    \n",
    "    # circular byte left shift\n",
    "    element = wordNew.pop(0)\n",
    "    wordNew.append(element)\n",
    "    \n",
    "    # byte substitution s-box (g is defined before)\n",
    "    g_word = []\n",
    "    for element in wordNew:\n",
    "        b = BitVector(hexstring=element)\n",
    "        int_val = b.intValue()\n",
    "        s = Sbox[int_val]\n",
    "        # adding for custom SBox purpose\n",
    "        s = int(BitVector(hexstring=s))\n",
    "        s = BitVector(intVal=s, size=8)\n",
    "        g_word.append(s.get_bitvector_in_hex())\n",
    "\n",
    "    g.append(g_word)\n",
    "    \n",
    "    # adding round constant\n",
    "    int_g = int(g[g_index][0], 16)\n",
    "    int_rc = int(round_constants[round_index][0], 16)\n",
    "    summation = int_g ^ int_rc\n",
    "    g[g_index][0] = BitVector(intVal=summation, size=8) \n",
    "    g[g_index][0] = g[g_index][0].get_bitvector_in_hex()"
   ]
  },
  {
   "cell_type": "markdown",
   "metadata": {},
   "source": [
    "# Key Scheduling"
   ]
  },
  {
   "cell_type": "code",
   "execution_count": 217,
   "metadata": {},
   "outputs": [
    {
     "name": "stdout",
     "output_type": "stream",
     "text": [
      "Key scheduling time :  0.02847146987915039\n"
     ]
    }
   ],
   "source": [
    "time0 = time.time()\n",
    "\n",
    "g = []\n",
    "g_index = 0\n",
    "round_index = 0\n",
    "word_index = 0\n",
    "\n",
    "gSteps(words[3], g_index, round_index)\n",
    "nextWord(word_index)\n",
    "\n",
    "for i in range(5,44,4) :\n",
    "\n",
    "    for j in range (i, i+3): # w5, w6, w7\n",
    "      \n",
    "        word_index+=1\n",
    "        temp = []\n",
    "        for k in range(4):\n",
    "            a = int(words[word_index][k], 16)\n",
    "            b = int(words[j-1][k], 16)\n",
    "            xor = a^b\n",
    "            xor = BitVector(intVal=xor, size=8) \n",
    "            xor = xor.get_bitvector_in_hex()\n",
    "            temp.append(xor)\n",
    "        words.append(temp)\n",
    "        \n",
    "    # *******generate w8 as g(w7) xor words[word_index]********\n",
    "    \n",
    "    # before entering the function increase word_index, g_index, round_index\n",
    "    word_index += 1\n",
    "    g_index += 1\n",
    "    round_index += 1\n",
    "    \n",
    "    if word_index == 40 :\n",
    "        break;\n",
    "    \n",
    "    \n",
    "    # call function\n",
    "    gSteps(words[j], g_index, round_index)\n",
    "    nextWord(word_index)\n",
    "\n",
    "roundKeys = []\n",
    "for i in range(0,len(words),4) :\n",
    "    roundKeys.append(words[i:i+4])\n",
    "time1 = time.time()\n",
    "\n",
    "execution_time = time1-time0\n",
    "print(\"Key scheduling time : \", execution_time)"
   ]
  },
  {
   "cell_type": "markdown",
   "metadata": {},
   "source": [
    "# Encryption"
   ]
  },
  {
   "cell_type": "markdown",
   "metadata": {},
   "source": [
    "## Input"
   ]
  },
  {
   "cell_type": "code",
   "execution_count": 230,
   "metadata": {},
   "outputs": [
    {
     "name": "stdout",
     "output_type": "stream",
     "text": [
      "Enter text : Two One Nine Two\n"
     ]
    }
   ],
   "source": [
    "paddingLength = 0\n",
    "text = input(\"Enter text : \")\n",
    "blocks = []\n",
    "if (len(text) < 16) :\n",
    "    paddingLength = 16 - len(text)\n",
    "    text = text.ljust(16,'0')\n",
    "    blocks.append(text)\n",
    "elif (len(text) > 16) :\n",
    "    for i in range(0,len(text),16) :\n",
    "        blocks.append(text[i:i+16])\n",
    "    if(len(blocks[len(blocks) - 1]) < 16) : \n",
    "        paddingLength = 16 - len(blocks[len(blocks) - 1])\n",
    "        blocks[len(blocks) - 1] = blocks[len(blocks) - 1].ljust(16,'0')\n",
    "else :\n",
    "    blocks.append(text)"
   ]
  },
  {
   "cell_type": "code",
   "execution_count": 231,
   "metadata": {},
   "outputs": [],
   "source": [
    "Mixer = [\n",
    "    [BitVector(hexstring=\"02\"), BitVector(hexstring=\"03\"), BitVector(hexstring=\"01\"), BitVector(hexstring=\"01\")],\n",
    "    [BitVector(hexstring=\"01\"), BitVector(hexstring=\"02\"), BitVector(hexstring=\"03\"), BitVector(hexstring=\"01\")],\n",
    "    [BitVector(hexstring=\"01\"), BitVector(hexstring=\"01\"), BitVector(hexstring=\"02\"), BitVector(hexstring=\"03\")],\n",
    "    [BitVector(hexstring=\"03\"), BitVector(hexstring=\"01\"), BitVector(hexstring=\"01\"), BitVector(hexstring=\"02\")]\n",
    "]\n",
    "\n",
    "InvMixer = [\n",
    "    [BitVector(hexstring=\"0E\"), BitVector(hexstring=\"0B\"), BitVector(hexstring=\"0D\"), BitVector(hexstring=\"09\")],\n",
    "    [BitVector(hexstring=\"09\"), BitVector(hexstring=\"0E\"), BitVector(hexstring=\"0B\"), BitVector(hexstring=\"0D\")],\n",
    "    [BitVector(hexstring=\"0D\"), BitVector(hexstring=\"09\"), BitVector(hexstring=\"0E\"), BitVector(hexstring=\"0B\")],\n",
    "    [BitVector(hexstring=\"0B\"), BitVector(hexstring=\"0D\"), BitVector(hexstring=\"09\"), BitVector(hexstring=\"0E\")]\n",
    "]"
   ]
  },
  {
   "cell_type": "code",
   "execution_count": 232,
   "metadata": {},
   "outputs": [],
   "source": [
    "from collections import deque"
   ]
  },
  {
   "cell_type": "code",
   "execution_count": 233,
   "metadata": {},
   "outputs": [
    {
     "name": "stdout",
     "output_type": "stream",
     "text": [
      "Encryption Time :  0.6508045196533203\n"
     ]
    },
    {
     "data": {
      "text/plain": [
       "['b9',\n",
       " '82',\n",
       " '46',\n",
       " '17',\n",
       " 'f7',\n",
       " '26',\n",
       " '23',\n",
       " 'b1',\n",
       " 'b2',\n",
       " '11',\n",
       " '8a',\n",
       " 'ff',\n",
       " 'db',\n",
       " '8b',\n",
       " '04',\n",
       " 'a5']"
      ]
     },
     "execution_count": 233,
     "metadata": {},
     "output_type": "execute_result"
    }
   ],
   "source": [
    "time0 = time.time()\n",
    "\n",
    "cipherText = []\n",
    "\n",
    "for n in range(len(blocks)) :\n",
    "    \n",
    "    textInHex = blocks[n].encode(\"utf-8\").hex()\n",
    "    \n",
    "    twoBitHexText = []\n",
    "    for j in range(0,len(textInHex),2) :\n",
    "        twoBitHexText.append(textInHex[j:j+2])\n",
    "\n",
    "        \n",
    "    # round 0\n",
    "    twoBitHexTextMatrix = np.array(twoBitHexText, dtype = str).reshape((4,4)).T\n",
    "    keyMatrix = np.array(roundKeys[0], dtype = str).reshape((4,4)).T\n",
    "    \n",
    "    state = []\n",
    "    \n",
    "    for i in range(4) :\n",
    "        for j in range(4) :\n",
    "            a = BitVector(hexstring=twoBitHexTextMatrix[i][j])\n",
    "            b = BitVector(hexstring=keyMatrix[i][j])\n",
    "            result = a ^ b\n",
    "            result = result.get_bitvector_in_hex()\n",
    "            state.append(result)\n",
    "    \n",
    "    stateMatrix = np.array(state, dtype = str).reshape((4,4))\n",
    "    \n",
    "    \n",
    "    # round 1 to 10\n",
    "    \n",
    "    for m in range(1,11) :\n",
    "\n",
    "        # substitution bytes\n",
    "\n",
    "        for i in range(4):\n",
    "            for j in range(4) :\n",
    "                b = BitVector(hexstring=stateMatrix[i][j])\n",
    "                int_val = b.intValue()\n",
    "                s = Sbox[int_val]\n",
    "                # adding for custom SBox purpose\n",
    "                s = int(BitVector(hexstring=s))\n",
    "                s = BitVector(intVal=s, size=8)\n",
    "                stateMatrix[i][j] = s.get_bitvector_in_hex()\n",
    "\n",
    "\n",
    "\n",
    "        #shift row\n",
    "        for i in range(1,4) :\n",
    "            d = deque(stateMatrix[i])\n",
    "            d.rotate(-i)\n",
    "            stateMatrix[i] = d\n",
    "\n",
    "        \n",
    "\n",
    "        # mix column\n",
    "        if m != 10 :\n",
    "            another_temp = []\n",
    "\n",
    "            for i in range(16) :\n",
    "                another_temp.append(\"00\")\n",
    "            another_temp = np.array(another_temp, dtype=str).reshape((4,4))\n",
    "\n",
    "            for i in range(4) :\n",
    "                for j in range(4) :\n",
    "                    for k in range(4) :\n",
    "                        bv1 = Mixer[i][k]\n",
    "                        bv2 = BitVector(hexstring=stateMatrix[k][j])\n",
    "                        a = bv1.gf_multiply_modular(bv2, AES_modulus, 8)\n",
    "                        bv3 = BitVector(hexstring=another_temp[i][j])\n",
    "                        xor = bv3 ^ a\n",
    "                        another_temp[i][j] = xor.get_bitvector_in_hex()\n",
    "\n",
    "            stateMatrix = another_temp\n",
    "\n",
    "\n",
    "        # add round key\n",
    "        keyMatrixNewRound = np.array(roundKeys[m], dtype = str).reshape((4,4)).T\n",
    "\n",
    "        for i in range(4) :\n",
    "            for j in range(4) :\n",
    "                a = BitVector(hexstring=stateMatrix[i][j])\n",
    "                b = BitVector(hexstring=keyMatrixNewRound[i][j])\n",
    "                result = a ^ b\n",
    "                result = result.get_bitvector_in_hex()\n",
    "                stateMatrix[i][j] = result\n",
    "\n",
    "\n",
    "    for j in range(4) :\n",
    "        for i in range(4) :\n",
    "            cipherText.append(stateMatrix[i][j])\n",
    "\n",
    "time1 = time.time()\n",
    "execution_time = time1-time0\n",
    "print(\"Encryption Time : \", execution_time)\n",
    "cipherText"
   ]
  },
  {
   "cell_type": "code",
   "execution_count": null,
   "metadata": {},
   "outputs": [],
   "source": [
    "cipherText = \n",
    "\"182e0afe67094cb70f2a7dc74f7e0076552456c820d6029f9519a7f8a020a6dc6707ec0f7e1eb439f3ea0db53ee60c958d67693151bba8ec61dacbd83e99c6ef9daa26069685e2284ba264a9b7ad9a56d6203cc8ab315c34de944af524b12d6585ccfb0c6fab4b7006266d66280ad44ea44dbe21d269f3e030129f49851711a6dd7b9f55dfd4c5dcee355973fc2ce6486d7df8de352e73d434ee9932477226e42012d10b974dfa66366f9830b0fb62e69dfde63105ae1d2eccb316e4f57ceb55eef9677d5dc267f8ece3d2fa30d2c06c\""
   ]
  },
  {
   "cell_type": "markdown",
   "metadata": {},
   "source": [
    "# Decryption"
   ]
  },
  {
   "cell_type": "code",
   "execution_count": 226,
   "metadata": {},
   "outputs": [
    {
     "name": "stdout",
     "output_type": "stream",
     "text": [
      "['78', 'e6', 'b0', 'dc', 'ee', '4d', 'e6', '6a', '0b', '02', 'cb', '11', '1e', '07', '79', 'c1']\n",
      "Decryption time :  1.6465513706207275\n"
     ]
    }
   ],
   "source": [
    "originalText = []\n",
    "\n",
    "cipherTextBlock = []\n",
    "\n",
    "for i in range(0,len(cipherText),16):\n",
    "    cipherTextBlock.append(cipherText[i:i+16])\n",
    "\n",
    "print(cipherTextBlock[0])\n",
    "time0 = time.time()\n",
    "\n",
    "for m in range(len(cipherTextBlock)) :\n",
    "    cipherMatrix = np.array(cipherTextBlock[m], dtype=str).reshape((4,4)).T\n",
    "    keyMatrixDecryption = np.array(roundKeys[10-0], dtype = str).reshape((4,4)).T\n",
    "    \n",
    "    # round 0\n",
    "    \n",
    "    state = []\n",
    "    \n",
    "    for i in range(4) :\n",
    "        for j in range(4) :\n",
    "            a = BitVector(hexstring=cipherMatrix[i][j])\n",
    "            b = BitVector(hexstring=keyMatrixDecryption[i][j])\n",
    "            result = a ^ b\n",
    "            result = result.get_bitvector_in_hex()\n",
    "            state.append(result)\n",
    "    \n",
    "    stateMatrix = np.array(state, dtype = str).reshape((4,4))\n",
    "    \n",
    "    # round 1 to 10\n",
    "    \n",
    "    for m in range(1,11) :\n",
    "        \n",
    "        # inverse shift row\n",
    "        for i in range(1,4) :\n",
    "            d = deque(stateMatrix[i])\n",
    "            d.rotate(i)\n",
    "            stateMatrix[i] = d\n",
    "            \n",
    "\n",
    "        # inverse substitution bytes\n",
    "\n",
    "        for i in range(4):\n",
    "            for j in range(4) :\n",
    "                b = BitVector(hexstring=stateMatrix[i][j])\n",
    "                int_val = b.intValue()\n",
    "                s = InvSbox[int_val]\n",
    "                # adding for custom InvSbox purpose\n",
    "                s = int(BitVector(hexstring=s))\n",
    "                s = BitVector(intVal=s, size=8)\n",
    "                stateMatrix[i][j] = s.get_bitvector_in_hex()\n",
    "\n",
    "\n",
    "        # add round key\n",
    "        keyMatrixNewRound = np.array(roundKeys[10-m], dtype = str).reshape((4,4)).T\n",
    "\n",
    "        for i in range(4) :\n",
    "            for j in range(4) :\n",
    "                a = BitVector(hexstring=stateMatrix[i][j])\n",
    "                b = BitVector(hexstring=keyMatrixNewRound[i][j])\n",
    "                result = a ^ b\n",
    "                result = result.get_bitvector_in_hex()\n",
    "                stateMatrix[i][j] = result\n",
    "        \n",
    "\n",
    "        \n",
    "\n",
    "        # inverse mix column\n",
    "        if m != 10 :\n",
    "            another_temp = []\n",
    "\n",
    "            for i in range(16) :\n",
    "                another_temp.append(\"00\")\n",
    "            another_temp = np.array(another_temp, dtype=str).reshape((4,4))\n",
    "\n",
    "            for i in range(4) :\n",
    "                for j in range(4) :\n",
    "                    for k in range(4) :\n",
    "                        bv1 = InvMixer[i][k]\n",
    "                        bv2 = BitVector(hexstring=stateMatrix[k][j])\n",
    "                        a = bv1.gf_multiply_modular(bv2, AES_modulus, 8)\n",
    "                        bv3 = BitVector(hexstring=another_temp[i][j])\n",
    "                        xor = bv3 ^ a\n",
    "                        another_temp[i][j] = xor.get_bitvector_in_hex()\n",
    "\n",
    "            stateMatrix = another_temp\n",
    "\n",
    "\n",
    "        \n",
    "\n",
    "\n",
    "    for j in range(4) :\n",
    "        for i in range(4) :\n",
    "            originalText.append(stateMatrix[i][j])\n",
    "    \n",
    "time1 = time.time()\n",
    "execution_time = time1-time0\n",
    "print(\"Decryption time : \", execution_time)\n"
   ]
  },
  {
   "cell_type": "code",
   "execution_count": 223,
   "metadata": {},
   "outputs": [
    {
     "name": "stdout",
     "output_type": "stream",
     "text": [
      "Anisha Islam hahaha\n"
     ]
    }
   ],
   "source": [
    "s = ''\n",
    "s = s.join(originalText)\n",
    "finalText = bytearray.fromhex(s).decode()\n",
    "finalLength = len(finalText) - paddingLength\n",
    "decipheredText = finalText[:finalLength]\n",
    "print(decipheredText)"
   ]
  },
  {
   "cell_type": "code",
   "execution_count": 20,
   "metadata": {},
   "outputs": [
    {
     "data": {
      "text/plain": [
       "'/media/anisha/Importants/Study_Materials/4-1/Lab/CSE 406 Security/Offline 1/Assignment 1.pdf'"
      ]
     },
     "execution_count": 20,
     "metadata": {},
     "output_type": "execute_result"
    }
   ],
   "source": [
    "file_path"
   ]
  },
  {
   "cell_type": "code",
   "execution_count": 20,
   "metadata": {},
   "outputs": [],
   "source": [
    "import tkinter as tk\n",
    "from tkinter import filedialog"
   ]
  },
  {
   "cell_type": "code",
   "execution_count": 21,
   "metadata": {
    "scrolled": true
   },
   "outputs": [],
   "source": [
    "# import base64 method to encode the given image\n",
    "\n",
    "import base64 \n",
    "import os\n",
    "  \n",
    "root = tk.Tk()\n",
    "root.withdraw()\n",
    "\n",
    "file_path = filedialog.askopenfilename()\n",
    "\n",
    "\n",
    "filename, file_extension = os.path.splitext(file_path)\n",
    "\n",
    "\n",
    "# open our image file in read binary mode\n",
    "with open(file_path, \"rb\") as file:\n",
    "    # reads the image and encodes it\n",
    "    byte_data = base64.b64encode(file.read())\n",
    "\n",
    "text = byte_data.decode('utf-8') \n"
   ]
  },
  {
   "cell_type": "code",
   "execution_count": 19,
   "metadata": {},
   "outputs": [],
   "source": [
    "import binascii"
   ]
  },
  {
   "cell_type": "markdown",
   "metadata": {},
   "source": [
    "# Custom SBox"
   ]
  },
  {
   "cell_type": "code",
   "execution_count": 210,
   "metadata": {
    "collapsed": true
   },
   "outputs": [
    {
     "name": "stdout",
     "output_type": "stream",
     "text": [
      "['63', '7c', '77', '7b', 'f2', '6b', '6f', 'c5', '30', '01', '67', '2b', 'fe', 'd7', 'ab', '76', 'ca', '82', 'c9', '7d', 'fa', '59', '47', 'f0', 'ad', 'd4', 'a2', 'af', '9c', 'a4', '72', 'c0', 'b7', 'fd', '93', '26', '36', '3f', 'f7', 'cc', '34', 'a5', 'e5', 'f1', '71', 'd8', '31', '15', '04', 'c7', '23', 'c3', '18', '96', '05', '9a', '07', '12', '80', 'e2', 'eb', '27', 'b2', '75', '09', '83', '2c', '1a', '1b', '6e', '5a', 'a0', '52', '3b', 'd6', 'b3', '29', 'e3', '2f', '84', '53', 'd1', '00', 'ed', '20', 'fc', 'b1', '5b', '6a', 'cb', 'be', '39', '4a', '4c', '58', 'cf', 'd0', 'ef', 'aa', 'fb', '43', '4d', '33', '85', '45', 'f9', '02', '7f', '50', '3c', '9f', 'a8', '51', 'a3', '40', '8f', '92', '9d', '38', 'f5', 'bc', 'b6', 'da', '21', '10', 'ff', 'f3', 'd2', 'cd', '0c', '13', 'ec', '5f', '97', '44', '17', 'c4', 'a7', '7e', '3d', '64', '5d', '19', '73', '60', '81', '4f', 'dc', '22', '2a', '90', '88', '46', 'ee', 'b8', '14', 'de', '5e', '0b', 'db', 'e0', '32', '3a', '0a', '49', '06', '24', '5c', 'c2', 'd3', 'ac', '62', '91', '95', 'e4', '79', 'e7', 'c8', '37', '6d', '8d', 'd5', '4e', 'a9', '6c', '56', 'f4', 'ea', '65', '7a', 'ae', '08', 'ba', '78', '25', '2e', '1c', 'a6', 'b4', 'c6', 'e8', 'dd', '74', '1f', '4b', 'bd', '8b', '8a', '70', '3e', 'b5', '66', '48', '03', 'f6', '0e', '61', '35', '57', 'b9', '86', 'c1', '1d', '9e', 'e1', 'f8', '98', '11', '69', 'd9', '8e', '94', '9b', '1e', '87', 'e9', 'ce', '55', '28', 'df', '8c', 'a1', '89', '0d', 'bf', 'e6', '42', '68', '41', '99', '2d', '0f', 'b0', '54', 'bb', '16']\n"
     ]
    }
   ],
   "source": [
    "AES_modulus = BitVector(bitstring='100011011')\n",
    "n = 8\n",
    "\n",
    "\n",
    "Sbox = []\n",
    "Sbox.append('63')\n",
    "\n",
    "for i in range(16) :\n",
    "    for j in range(16) :\n",
    "        if i == 0 and j == 0:\n",
    "           # do nothing\n",
    "            i+=0\n",
    "        else :\n",
    "           \n",
    "            a = BitVector(hexstring = changeVal(i) + changeVal(j))\n",
    "            \n",
    "            multi_inverse = a.gf_MI(AES_modulus, n)\n",
    "\n",
    "            s = []\n",
    "            for k in range(len(multi_inverse)):\n",
    "                s.append(multi_inverse[k])\n",
    "            for l in range(1,5) :\n",
    "                d = deque(s)\n",
    "                d.rotate(-l) # left shift\n",
    "                converted_bit_string = BitVector(bitlist=d)\n",
    "                multi_inverse ^= converted_bit_string\n",
    "\n",
    "\n",
    "            bv2 = BitVector(hexstring='63')\n",
    "            multi_inverse ^= bv2\n",
    "            Sbox.append(multi_inverse.get_bitvector_in_hex())\n",
    "\n",
    "            \n",
    "print(Sbox)\n"
   ]
  },
  {
   "cell_type": "code",
   "execution_count": 73,
   "metadata": {},
   "outputs": [],
   "source": [
    "def changeVal (i) :\n",
    "    if i == 10:\n",
    "        return 'a'\n",
    "    elif i == 11:\n",
    "        return 'b'\n",
    "    elif i == 12:\n",
    "        return 'c'\n",
    "    elif i == 13:\n",
    "        return 'd'\n",
    "    elif i == 14:\n",
    "        return 'e'\n",
    "    elif i == 15:\n",
    "        return 'f'\n",
    "    else :\n",
    "        return str(i)"
   ]
  },
  {
   "cell_type": "markdown",
   "metadata": {},
   "source": [
    "## Not Applied"
   ]
  },
  {
   "cell_type": "code",
   "execution_count": 203,
   "metadata": {},
   "outputs": [
    {
     "name": "stdout",
     "output_type": "stream",
     "text": [
      "4f\n"
     ]
    }
   ],
   "source": [
    "AES_modulus = BitVector(bitstring='100011011')\n",
    "n = 8\n",
    "\n",
    "a = BitVector(hexstring = '01')\n",
    "            \n",
    "multi_inverse = a.gf_MI(AES_modulus, n)\n",
    "\n",
    "s = []\n",
    "for k in range(len(multi_inverse)):\n",
    "    s.append(multi_inverse[k])\n",
    "shiftVal = [1,3,6]\n",
    "# converted_bit_string = BitVector(hexstring = '0')\n",
    "for l in shiftVal :\n",
    "    d = deque(s)\n",
    "    d.rotate(-l) # left shift\n",
    "    if l == 1:\n",
    "        converted_bit_string = BitVector(bitlist=d)\n",
    "    else :\n",
    "        converted_bit_string ^= BitVector(bitlist=d)\n",
    "    \n",
    "\n",
    "\n",
    "bv2 = BitVector(hexstring='5')\n",
    "converted_bit_string ^= bv2\n",
    "print(converted_bit_string.get_bitvector_in_hex())"
   ]
  },
  {
   "cell_type": "code",
   "execution_count": 162,
   "metadata": {},
   "outputs": [],
   "source": [
    "SboxMat = np.array(SBox, dtype = str).reshape((16,16))"
   ]
  },
  {
   "cell_type": "code",
   "execution_count": 154,
   "metadata": {
    "collapsed": true
   },
   "outputs": [
    {
     "data": {
      "text/plain": [
       "array([['63', '7c', '77', '7b', 'f2', '6b', '6f', 'c5', '30', '01', '67',\n",
       "        '2b', 'fe', 'd7', 'ab', '76'],\n",
       "       ['ca', '82', 'c9', '7d', 'fa', '59', '47', 'f0', 'ad', 'd4', 'a2',\n",
       "        'af', '9c', 'a4', '72', 'c0'],\n",
       "       ['b7', 'fd', '93', '26', '36', '3f', 'f7', 'cc', '34', 'a5', 'e5',\n",
       "        'f1', '71', 'd8', '31', '15'],\n",
       "       ['04', 'c7', '23', 'c3', '18', '96', '05', '9a', '07', '12', '80',\n",
       "        'e2', 'eb', '27', 'b2', '75'],\n",
       "       ['09', '83', '2c', '1a', '1b', '6e', '5a', 'a0', '52', '3b', 'd6',\n",
       "        'b3', '29', 'e3', '2f', '84'],\n",
       "       ['53', 'd1', '00', 'ed', '20', 'fc', 'b1', '5b', '6a', 'cb', 'be',\n",
       "        '39', '4a', '4c', '58', 'cf'],\n",
       "       ['d0', 'ef', 'aa', 'fb', '43', '4d', '33', '85', '45', 'f9', '02',\n",
       "        '7f', '50', '3c', '9f', 'a8'],\n",
       "       ['51', 'a3', '40', '8f', '92', '9d', '38', 'f5', 'bc', 'b6', 'da',\n",
       "        '21', '10', 'ff', 'f3', 'd2'],\n",
       "       ['cd', '0c', '13', 'ec', '5f', '97', '44', '17', 'c4', 'a7', '7e',\n",
       "        '3d', '64', '5d', '19', '73'],\n",
       "       ['60', '81', '4f', 'dc', '22', '2a', '90', '88', '46', 'ee', 'b8',\n",
       "        '14', 'de', '5e', '0b', 'db'],\n",
       "       ['e0', '32', '3a', '0a', '49', '06', '24', '5c', 'c2', 'd3', 'ac',\n",
       "        '62', '91', '95', 'e4', '79'],\n",
       "       ['e7', 'c8', '37', '6d', '8d', 'd5', '4e', 'a9', '6c', '56', 'f4',\n",
       "        'ea', '65', '7a', 'ae', '08'],\n",
       "       ['ba', '78', '25', '2e', '1c', 'a6', 'b4', 'c6', 'e8', 'dd', '74',\n",
       "        '1f', '4b', 'bd', '8b', '8a'],\n",
       "       ['70', '3e', 'b5', '66', '48', '03', 'f6', '0e', '61', '35', '57',\n",
       "        'b9', '86', 'c1', '1d', '9e'],\n",
       "       ['e1', 'f8', '98', '11', '69', 'd9', '8e', '94', '9b', '1e', '87',\n",
       "        'e9', 'ce', '55', '28', 'df'],\n",
       "       ['8c', 'a1', '89', '0d', 'bf', 'e6', '42', '68', '41', '99', '2d',\n",
       "        '0f', 'b0', '54', 'bb', '16']], dtype='<U2')"
      ]
     },
     "execution_count": 154,
     "metadata": {},
     "output_type": "execute_result"
    }
   ],
   "source": [
    "SboxMatrix"
   ]
  },
  {
   "cell_type": "markdown",
   "metadata": {},
   "source": [
    "# Inverse SBox"
   ]
  },
  {
   "cell_type": "code",
   "execution_count": 155,
   "metadata": {},
   "outputs": [],
   "source": [
    "def hexToInt (s):\n",
    "    if s == 'a':\n",
    "        return 10\n",
    "    elif s == 'b':\n",
    "        return 11\n",
    "    elif s == 'c':\n",
    "        return 12\n",
    "    elif s == 'd':\n",
    "        return 13\n",
    "    elif s == 'e':\n",
    "        return 14\n",
    "    elif s == 'f':\n",
    "        return 15\n",
    "    else :\n",
    "        return int(s)"
   ]
  },
  {
   "cell_type": "code",
   "execution_count": 209,
   "metadata": {},
   "outputs": [
    {
     "name": "stdout",
     "output_type": "stream",
     "text": [
      "['52' '09' '6a' 'd5' '30' '36' 'a5' '38' 'bf' '40' 'a3' '9e' '81' 'f3'\n",
      " 'd7' 'fb' '7c' 'e3' '39' '82' '9b' '2f' 'ff' '87' '34' '8e' '43' '44'\n",
      " 'c4' 'de' 'e9' 'cb' '54' '7b' '94' '32' 'a6' 'c2' '23' '3d' 'ee' '4c'\n",
      " '95' '0b' '42' 'fa' 'c3' '4e' '08' '2e' 'a1' '66' '28' 'd9' '24' 'b2'\n",
      " '76' '5b' 'a2' '49' '6d' '8b' 'd1' '25' '72' 'f8' 'f6' '64' '86' '68'\n",
      " '98' '16' 'd4' 'a4' '5c' 'cc' '5d' '65' 'b6' '92' '6c' '70' '48' '50'\n",
      " 'fd' 'ed' 'b9' 'da' '5e' '15' '46' '57' 'a7' '8d' '9d' '84' '90' 'd8'\n",
      " 'ab' '00' '8c' 'bc' 'd3' '0a' 'f7' 'e4' '58' '05' 'b8' 'b3' '45' '06'\n",
      " 'd0' '2c' '1e' '8f' 'ca' '3f' '0f' '02' 'c1' 'af' 'bd' '03' '01' '13'\n",
      " '8a' '6b' '3a' '91' '11' '41' '4f' '67' 'dc' 'ea' '97' 'f2' 'cf' 'ce'\n",
      " 'f0' 'b4' 'e6' '73' '96' 'ac' '74' '22' 'e7' 'ad' '35' '85' 'e2' 'f9'\n",
      " '37' 'e8' '1c' '75' 'df' '6e' '47' 'f1' '1a' '71' '1d' '29' 'c5' '89'\n",
      " '6f' 'b7' '62' '0e' 'aa' '18' 'be' '1b' 'fc' '56' '3e' '4b' 'c6' 'd2'\n",
      " '79' '20' '9a' 'db' 'c0' 'fe' '78' 'cd' '5a' 'f4' '1f' 'dd' 'a8' '33'\n",
      " '88' '07' 'c7' '31' 'b1' '12' '10' '59' '27' '80' 'ec' '5f' '60' '51'\n",
      " '7f' 'a9' '19' 'b5' '4a' '0d' '2d' 'e5' '7a' '9f' '93' 'c9' '9c' 'ef'\n",
      " 'a0' 'e0' '3b' '4d' 'ae' '2a' 'f5' 'b0' 'c8' 'eb' 'bb' '3c' '83' '53'\n",
      " '99' '61' '17' '2b' '04' '7e' 'ba' '77' 'd6' '26' 'e1' '69' '14' '63'\n",
      " '55' '21' '0c' '7d']\n"
     ]
    }
   ],
   "source": [
    "SboxMat = np.array(SBox, dtype = str).reshape((16,16))\n",
    "InvSbox = []\n",
    "for i in range(16*16):\n",
    "    InvSbox.append('0')\n",
    "InvSbox = np.array(InvSbox, dtype=object).reshape((16,16))\n",
    "for i in range(16) :\n",
    "    for j in range(16):\n",
    "        s = SboxMat[i][j]\n",
    "        temp = changeVal(i)+changeVal(j)\n",
    "        InvSbox[hexToInt (s[0])][hexToInt (s[1])] = temp\n",
    "InvSbox = InvSbox.flatten()\n"
   ]
  },
  {
   "cell_type": "code",
   "execution_count": 224,
   "metadata": {},
   "outputs": [
    {
     "data": {
      "text/plain": [
       "'0xa'"
      ]
     },
     "execution_count": 224,
     "metadata": {},
     "output_type": "execute_result"
    }
   ],
   "source": [
    "hex(10)"
   ]
  },
  {
   "cell_type": "code",
   "execution_count": 229,
   "metadata": {},
   "outputs": [
    {
     "data": {
      "text/plain": [
       "'31'"
      ]
     },
     "execution_count": 229,
     "metadata": {},
     "output_type": "execute_result"
    }
   ],
   "source": [
    "s = '1'.encode('utf-8').hex()\n",
    "s"
   ]
  },
  {
   "cell_type": "code",
   "execution_count": null,
   "metadata": {},
   "outputs": [],
   "source": []
  }
 ],
 "metadata": {
  "kernelspec": {
   "display_name": "Python 3",
   "language": "python",
   "name": "python3"
  },
  "language_info": {
   "codemirror_mode": {
    "name": "ipython",
    "version": 3
   },
   "file_extension": ".py",
   "mimetype": "text/x-python",
   "name": "python",
   "nbconvert_exporter": "python",
   "pygments_lexer": "ipython3",
   "version": "3.8.5"
  }
 },
 "nbformat": 4,
 "nbformat_minor": 4
}
